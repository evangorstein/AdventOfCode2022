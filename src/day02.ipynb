{
 "cells": [
  {
   "cell_type": "code",
   "execution_count": 1,
   "metadata": {},
   "outputs": [],
   "source": [
    "you, me = [5,4]"
   ]
  },
  {
   "cell_type": "code",
   "execution_count": 1,
   "metadata": {},
   "outputs": [],
   "source": [
    "def score(round):\n",
    "    \"\"\"Returns score for a round, i.e. which is given as string of length 3\n",
    "    The first character in the string is the opponents' play, either \"A\"=Rock, \n",
    "    \"B\"=Paper, or \"C\"=Scissors, and the third charater is my play, either \n",
    "    \"X\"=Rock, \"Y\"=Paper, or \"Z\"=Scissors\n",
    "    \"\"\"\n",
    "\n",
    "    you, me = (round[0], round[2])\n",
    "\n",
    "    #Player 1 plays Rock\n",
    "    if you == \"A\":\n",
    "        if me == \"X\":\n",
    "            score1, score2 = (4, 3)\n",
    "        elif me == \"Y\":\n",
    "            score1, score2 = (8, 4)\n",
    "        else:\n",
    "            score1, score2 = (3, 8)\n",
    "\n",
    "    #Player 1 plays Paper\n",
    "    if you == \"B\":\n",
    "        if me == \"X\":\n",
    "            score1, score2 = (1, 1)\n",
    "        elif me == \"Y\":\n",
    "            score1, score2 = (5, 5)\n",
    "        else:\n",
    "            score1, score2 = (9, 9), \n",
    "    \n",
    "    #Player 1 plays Scissors\n",
    "    if you == \"C\":\n",
    "        if me == \"X\":\n",
    "            score = (7, 2)\n",
    "        elif me == \"Y\":\n",
    "            score1, score2 = (2, 6)\n",
    "        else: \n",
    "            score1, score2 = (6, 7)\n",
    "\n",
    "    return (score1, score2)"
   ]
  },
  {
   "cell_type": "code",
   "execution_count": 2,
   "metadata": {},
   "outputs": [],
   "source": [
    "import pathlib\n",
    "path = \"data/ex_day02.txt\"\n",
    "puzzle_input = pathlib.Path(path).read_text().strip()"
   ]
  },
  {
   "cell_type": "code",
   "execution_count": 13,
   "metadata": {},
   "outputs": [],
   "source": [
    "rounds = puzzle_input.split(\"\\n\")\n",
    "scrs = map(score, rounds)"
   ]
  },
  {
   "cell_type": "code",
   "execution_count": 14,
   "metadata": {},
   "outputs": [
    {
     "data": {
      "text/plain": [
       "[(8, 4), (1, 1), (6, 7)]"
      ]
     },
     "execution_count": 14,
     "metadata": {},
     "output_type": "execute_result"
    }
   ],
   "source": [
    "scrs = list(scrs)\n",
    "scrs"
   ]
  },
  {
   "cell_type": "code",
   "execution_count": 17,
   "metadata": {},
   "outputs": [
    {
     "data": {
      "text/plain": [
       "12"
      ]
     },
     "execution_count": 17,
     "metadata": {},
     "output_type": "execute_result"
    }
   ],
   "source": [
    "sum([scr[1] for scr in scrs])"
   ]
  },
  {
   "cell_type": "code",
   "execution_count": null,
   "metadata": {},
   "outputs": [],
   "source": []
  }
 ],
 "metadata": {
  "kernelspec": {
   "display_name": "base",
   "language": "python",
   "name": "python3"
  },
  "language_info": {
   "codemirror_mode": {
    "name": "ipython",
    "version": 3
   },
   "file_extension": ".py",
   "mimetype": "text/x-python",
   "name": "python",
   "nbconvert_exporter": "python",
   "pygments_lexer": "ipython3",
   "version": "3.9.7"
  },
  "orig_nbformat": 4,
  "vscode": {
   "interpreter": {
    "hash": "d340c954ea01b1efbb84626e1d2f3c807db0b287ac8fc14657ecc1186df2dec1"
   }
  }
 },
 "nbformat": 4,
 "nbformat_minor": 2
}
